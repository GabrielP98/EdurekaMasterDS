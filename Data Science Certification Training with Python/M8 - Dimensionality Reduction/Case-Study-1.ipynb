{
 "cells": [
  {
   "cell_type": "markdown",
   "id": "outdoor-stuff",
   "metadata": {},
   "source": [
    "1. Scikit learn comes with pre-loaded dataset, load the digits dataset from that collection and write a helper function to plot the image using matplotlib.[Hint:Explore datasets module from scikit learn]"
   ]
  },
  {
   "cell_type": "code",
   "execution_count": 68,
   "id": "contrary-niger",
   "metadata": {},
   "outputs": [],
   "source": [
    "#Our dataset\n",
    "from sklearn.datasets import load_digits\n",
    "from sklearn import metrics\n",
    "\n",
    "#Basic frameworks to deal with data\n",
    "import pandas as pd\n",
    "import numpy as np\n",
    "\n",
    "#Visualisation frameworks\n",
    "import matplotlib.pyplot as plt\n",
    "%matplotlib inline  \n",
    "\n",
    "#Models and tools\n",
    "from sklearn.model_selection import train_test_split\n",
    "from sklearn.linear_model import LogisticRegression\n",
    "\n",
    "#Importing PCA framework\n",
    "from sklearn.decomposition import PCA"
   ]
  },
  {
   "cell_type": "code",
   "execution_count": 69,
   "id": "arbitrary-saskatchewan",
   "metadata": {},
   "outputs": [
    {
     "name": "stdout",
     "output_type": "stream",
     "text": [
      "(1797, 64)\n"
     ]
    }
   ],
   "source": [
    "digits = load_digits()\n",
    "digits_data = digits.data\n",
    "print(digits.data.shape)"
   ]
  },
  {
   "cell_type": "code",
   "execution_count": 70,
   "id": "multiple-shannon",
   "metadata": {},
   "outputs": [
    {
     "data": {
      "image/png": "[encoded data removed]",
      "text/plain": [
       "<Figure size 216x216 with 1 Axes>"
      ]
     },
     "metadata": {
      "needs_background": "light"
     },
     "output_type": "display_data"
    }
   ],
   "source": [
    "#Let's display the first image\n",
    "plt.figure(1, figsize=(3, 3))\n",
    "plt.imshow(digits.images[-1], cmap=plt.cm.gray_r, interpolation='nearest')\n",
    "plt.show()"
   ]
  },
  {
   "cell_type": "code",
   "execution_count": 71,
   "id": "worth-consultation",
   "metadata": {},
   "outputs": [],
   "source": [
    "def plot_image(number_image):\n",
    "    plt.figure(number_image, figsize=(3, 3))\n",
    "    plt.imshow(digits.images[-number_image], cmap=plt.cm.gray_r, interpolation='nearest')\n",
    "    plt.show()"
   ]
  },
  {
   "cell_type": "code",
   "execution_count": 72,
   "id": "dimensional-charter",
   "metadata": {},
   "outputs": [
    {
     "data": {
      "image/png": "[encoded data removed]",
      "text/plain": [
       "<Figure size 216x216 with 1 Axes>"
      ]
     },
     "metadata": {
      "needs_background": "light"
     },
     "output_type": "display_data"
    }
   ],
   "source": [
    "#Let's plot the second image using our func plot_iamge\n",
    "plot_image(2)"
   ]
  },
  {
   "cell_type": "markdown",
   "id": "hired-community",
   "metadata": {},
   "source": [
    "To work with this type of image data, we must know that we have n_samples (total number of images) and n_features (total number of pixels in each image)."
   ]
  },
  {
   "cell_type": "markdown",
   "id": "earlier-staff",
   "metadata": {},
   "source": [
    "2. Make a train-test split with 20% of the data set aside for testing. Fit a logistic regression model and observe the accuracy."
   ]
  },
  {
   "cell_type": "code",
   "execution_count": 74,
   "id": "surprising-ivory",
   "metadata": {},
   "outputs": [],
   "source": [
    "# flatten the images\n",
    "n_samples = len(digits.images)\n",
    "data = digits.images.reshape((n_samples, -1))\n",
    "\n",
    "# Split data into 80% train and 20% test\n",
    "X_train, X_test, y_train, y_test = train_test_split(\n",
    "    data, digits.target, test_size=0.2, shuffle=False)"
   ]
  },
  {
   "cell_type": "code",
   "execution_count": 75,
   "id": "hazardous-confusion",
   "metadata": {},
   "outputs": [],
   "source": [
    "# Learn the digits on the train subset\n",
    "lr = LogisticRegression(max_iter=5000, random_state=0).fit(X_train, y_train)\n",
    "\n",
    "# Predict the value of the digit on the test subset\n",
    "predicted = lr.predict(X_test)"
   ]
  },
  {
   "cell_type": "markdown",
   "id": "polished-salmon",
   "metadata": {},
   "source": [
    "Let's compare our predict values against actual:"
   ]
  },
  {
   "cell_type": "code",
   "execution_count": 76,
   "id": "potential-manner",
   "metadata": {},
   "outputs": [
    {
     "name": "stdout",
     "output_type": "stream",
     "text": [
      "Classification report for classifier LogisticRegression(max_iter=5000, random_state=0):\n",
      "              precision    recall  f1-score   support\n",
      "\n",
      "           0       1.00      0.91      0.96        35\n",
      "           1       0.81      0.81      0.81        36\n",
      "           2       1.00      1.00      1.00        35\n",
      "           3       0.96      0.70      0.81        37\n",
      "           4       0.94      0.92      0.93        37\n",
      "           5       0.90      0.95      0.92        37\n",
      "           6       0.95      0.97      0.96        37\n",
      "           7       0.94      0.94      0.94        36\n",
      "           8       0.76      0.88      0.82        33\n",
      "           9       0.79      0.92      0.85        37\n",
      "\n",
      "    accuracy                           0.90       360\n",
      "   macro avg       0.91      0.90      0.90       360\n",
      "weighted avg       0.91      0.90      0.90       360\n",
      "\n",
      "\n"
     ]
    },
    {
     "data": {
      "image/png": "[encoded data removed]",
      "text/plain": [
       "<Figure size 720x216 with 4 Axes>"
      ]
     },
     "metadata": {
      "needs_background": "light"
     },
     "output_type": "display_data"
    }
   ],
   "source": [
    "print(f\"Classification report for classifier {lr}:\\n\"\n",
    "      f\"{metrics.classification_report(y_test, predicted)}\\n\")\n",
    "\n",
    "_, axes = plt.subplots(nrows=1, ncols=4, figsize=(10, 3))\n",
    "for ax, image, prediction in zip(axes, X_test, predicted):\n",
    "    ax.set_axis_off()\n",
    "    image = image.reshape(8, 8)\n",
    "    ax.imshow(image, cmap=plt.cm.gray_r, interpolation='nearest')\n",
    "    ax.set_title(f'Prediction: {prediction}')"
   ]
  },
  {
   "cell_type": "markdown",
   "id": "optical-commander",
   "metadata": {},
   "source": [
    "3. Using scikit learn perform a PCA transformation such that the transformed dataset can explain 95% of the variance in the original dataset. Find out the number of components in the projected subspace."
   ]
  },
  {
   "cell_type": "code",
   "execution_count": 83,
   "id": "wooden-spyware",
   "metadata": {},
   "outputs": [
    {
     "name": "stdout",
     "output_type": "stream",
     "text": [
      "Explained variation per principal component: 0.9547492053786747\n"
     ]
    }
   ],
   "source": [
    "pca = PCA(n_components=29)\n",
    "pca.fit(X_train)\n",
    "\n",
    "print('Explained variation per principal component: {}'.format(sum(pca.explained_variance_ratio_)))"
   ]
  },
  {
   "cell_type": "markdown",
   "id": "altered-growing",
   "metadata": {},
   "source": [
    "4.Transform the dataset and fit a logistic regression and observe the accuracy. Compare it with the previous model and comment on the accuracy."
   ]
  },
  {
   "cell_type": "code",
   "execution_count": 84,
   "id": "secret-vancouver",
   "metadata": {},
   "outputs": [],
   "source": [
    "X_train = pca.fit_transform(X_train, y_train)\n",
    "X_test = pca.transform(X_test)"
   ]
  },
  {
   "cell_type": "code",
   "execution_count": 85,
   "id": "frozen-transition",
   "metadata": {},
   "outputs": [],
   "source": [
    "# Learn the digits on the train subset\n",
    "lr = LogisticRegression(max_iter=5000, random_state=0).fit(X_train, y_train)\n",
    "\n",
    "# Predict the value of the digit on the test subset\n",
    "predicted = lr.predict(X_test)"
   ]
  },
  {
   "cell_type": "code",
   "execution_count": 86,
   "id": "signal-brazil",
   "metadata": {},
   "outputs": [
    {
     "name": "stdout",
     "output_type": "stream",
     "text": [
      "Classification report for classifier LogisticRegression(max_iter=5000, random_state=0):\n",
      "              precision    recall  f1-score   support\n",
      "\n",
      "           0       1.00      0.91      0.96        35\n",
      "           1       0.83      0.81      0.82        36\n",
      "           2       0.95      1.00      0.97        35\n",
      "           3       0.96      0.73      0.83        37\n",
      "           4       0.94      0.92      0.93        37\n",
      "           5       0.92      0.97      0.95        37\n",
      "           6       0.95      0.97      0.96        37\n",
      "           7       0.92      0.97      0.95        36\n",
      "           8       0.79      0.82      0.81        33\n",
      "           9       0.79      0.92      0.85        37\n",
      "\n",
      "    accuracy                           0.90       360\n",
      "   macro avg       0.91      0.90      0.90       360\n",
      "weighted avg       0.91      0.90      0.90       360\n",
      "\n",
      "\n"
     ]
    }
   ],
   "source": [
    "print(f\"Classification report for classifier {lr}:\\n\"\n",
    "      f\"{metrics.classification_report(y_test, predicted)}\\n\")"
   ]
  },
  {
   "cell_type": "markdown",
   "id": "organic-memphis",
   "metadata": {},
   "source": [
    "5.Compute the confusion matrix and count the number of instances that has gone wrong. "
   ]
  },
  {
   "cell_type": "code",
   "execution_count": 87,
   "id": "simple-looking",
   "metadata": {},
   "outputs": [
    {
     "name": "stdout",
     "output_type": "stream",
     "text": [
      "Confusion matrix:\n",
      "[[32  0  0  0  1  0  2  0  0  0]\n",
      " [ 0 29  0  1  0  0  0  0  0  6]\n",
      " [ 0  0 35  0  0  0  0  0  0  0]\n",
      " [ 0  0  1 27  0  2  0  2  5  0]\n",
      " [ 0  0  0  0 34  0  0  0  0  3]\n",
      " [ 0  1  0  0  0 36  0  0  0  0]\n",
      " [ 0  1  0  0  0  0 36  0  0  0]\n",
      " [ 0  0  0  0  0  0  0 35  1  0]\n",
      " [ 0  2  1  0  1  1  0  1 27  0]\n",
      " [ 0  2  0  0  0  0  0  0  1 34]]\n"
     ]
    },
    {
     "data": {
      "image/png": "[encoded data removed]",
      "text/plain": [
       "<Figure size 432x288 with 2 Axes>"
      ]
     },
     "metadata": {
      "needs_background": "light"
     },
     "output_type": "display_data"
    }
   ],
   "source": [
    "disp = metrics.plot_confusion_matrix(lr, X_test, y_test)\n",
    "disp.figure_.suptitle(\"Confusion Matrix\")\n",
    "print(f\"Confusion matrix:\\n{disp.confusion_matrix}\")\n",
    "\n",
    "plt.show()"
   ]
  },
  {
   "cell_type": "code",
   "execution_count": null,
   "id": "confirmed-structure",
   "metadata": {},
   "outputs": [],
   "source": []
  }
 ],
 "metadata": {
  "kernelspec": {
   "display_name": "Python 3",
   "language": "python",
   "name": "python3"
  },
  "language_info": {
   "codemirror_mode": {
    "name": "ipython",
    "version": 3
   },
   "file_extension": ".py",
   "mimetype": "text/x-python",
   "name": "python",
   "nbconvert_exporter": "python",
   "pygments_lexer": "ipython3",
   "version": "3.7.3"
  }
 },
 "nbformat": 4,
 "nbformat_minor": 5
}
